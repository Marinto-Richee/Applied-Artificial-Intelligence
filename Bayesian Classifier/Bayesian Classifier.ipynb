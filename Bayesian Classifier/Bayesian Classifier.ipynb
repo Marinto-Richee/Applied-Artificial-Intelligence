{
  "nbformat": 4,
  "nbformat_minor": 0,
  "metadata": {
    "colab": {
      "provenance": []
    },
    "kernelspec": {
      "name": "python3",
      "display_name": "Python 3"
    },
    "language_info": {
      "name": "python"
    }
  },
  "cells": [
    {
      "cell_type": "code",
      "execution_count": null,
      "metadata": {
        "id": "CJaq2wclG0y5",
        "colab": {
          "base_uri": "https://localhost:8080/"
        },
        "outputId": "0de11301-3ffb-461f-f8a3-2a5b8cd3214e"
      },
      "outputs": [
        {
          "output_type": "stream",
          "name": "stdout",
          "text": [
            "Accuracy:  0.9777777777777777\n"
          ]
        }
      ],
      "source": [
        "import numpy as np\n",
        "from sklearn.datasets import load_iris\n",
        "from sklearn.model_selection import train_test_split\n",
        "from sklearn.naive_bayes import GaussianNB\n",
        "from sklearn.metrics import accuracy_score\n",
        "\n",
        "class BayesClassifier:\n",
        "  def __init__(self):\n",
        "    self.clf=GaussianNB()\n",
        "  \n",
        "  def fit(self,X,y):\n",
        "    self.clf.fit(X,y)\n",
        "\n",
        "  def predict(self,X):\n",
        "    return self.clf.predict(X)\n",
        "  \n",
        "iris=load_iris()\n",
        "X_train,X_test,y_train,y_test=train_test_split(iris.data,iris.target,test_size=0.3,random_state=38)\n",
        "\n",
        "clf=BayesClassifier()\n",
        "clf.fit(X_train,y_train)\n",
        "y_pred=clf.predict(X_test)\n",
        "accuracy=accuracy_score(y_test,y_pred)\n",
        "print(\"Accuracy: \",accuracy)"
      ]
    },
    {
      "cell_type": "code",
      "source": [],
      "metadata": {
        "id": "sjG7jpVjLX6H"
      },
      "execution_count": null,
      "outputs": []
    }
  ]
}