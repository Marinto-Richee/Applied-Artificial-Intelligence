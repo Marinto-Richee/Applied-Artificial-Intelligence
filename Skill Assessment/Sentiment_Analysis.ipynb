{
  "nbformat": 4,
  "nbformat_minor": 0,
  "metadata": {
    "colab": {
      "provenance": []
    },
    "kernelspec": {
      "name": "python3",
      "display_name": "Python 3"
    },
    "language_info": {
      "name": "python"
    }
  },
  "cells": [
    {
      "cell_type": "code",
      "source": [
        "pip install vaderSentiment"
      ],
      "metadata": {
        "colab": {
          "base_uri": "https://localhost:8080/",
          "height": 0
        },
        "id": "rLZqRI0DQvrW",
        "outputId": "e3976974-9426-4d10-e249-ba2ac711c517"
      },
      "execution_count": 2,
      "outputs": [
        {
          "output_type": "stream",
          "name": "stdout",
          "text": [
            "Looking in indexes: https://pypi.org/simple, https://us-python.pkg.dev/colab-wheels/public/simple/\n",
            "Collecting vaderSentiment\n",
            "  Downloading vaderSentiment-3.3.2-py2.py3-none-any.whl (125 kB)\n",
            "\u001b[2K     \u001b[90m━━━━━━━━━━━━━━━━━━━━━━━━━━━━━━━━━━━━━━\u001b[0m \u001b[32m126.0/126.0 kB\u001b[0m \u001b[31m10.5 MB/s\u001b[0m eta \u001b[36m0:00:00\u001b[0m\n",
            "\u001b[?25hRequirement already satisfied: requests in /usr/local/lib/python3.10/dist-packages (from vaderSentiment) (2.27.1)\n",
            "Requirement already satisfied: urllib3<1.27,>=1.21.1 in /usr/local/lib/python3.10/dist-packages (from requests->vaderSentiment) (1.26.15)\n",
            "Requirement already satisfied: certifi>=2017.4.17 in /usr/local/lib/python3.10/dist-packages (from requests->vaderSentiment) (2022.12.7)\n",
            "Requirement already satisfied: charset-normalizer~=2.0.0 in /usr/local/lib/python3.10/dist-packages (from requests->vaderSentiment) (2.0.12)\n",
            "Requirement already satisfied: idna<4,>=2.5 in /usr/local/lib/python3.10/dist-packages (from requests->vaderSentiment) (3.4)\n",
            "Installing collected packages: vaderSentiment\n",
            "Successfully installed vaderSentiment-3.3.2\n"
          ]
        }
      ]
    },
    {
      "cell_type": "code",
      "execution_count": 15,
      "metadata": {
        "id": "_a4f_qNShFK7",
        "colab": {
          "base_uri": "https://localhost:8080/"
        },
        "outputId": "1dd9007c-249e-4b63-cdd3-f2ca84bc8cbd"
      },
      "outputs": [
        {
          "output_type": "stream",
          "name": "stdout",
          "text": [
            "\n",
            "\n",
            "Text: Ajinkya Rahane in IPL 2023:\n",
            "\n",
            "61(27) vs Mumbai.\n",
            "31(19) vs Rajasthan.\n",
            "37(20) vs Bangalore.\n",
            "71*(29) vs Kolkata.\n",
            "27(13) vs Gujarat in final.\n",
            "\n",
            "326 runs at an average of 32.6 & strike rate of 172.49 - The man for CSK, incredible in different situations. \n",
            "https://t.co/eBwIIK6oTp\n",
            "Positive: 0.0\n",
            "Negative: 0.034\n",
            "Neutral: 0.966\n",
            "Compound: -0.128\n",
            "\n",
            "\n",
            "Text: 96 at Durban\n",
            "118 at Wellington\n",
            "103 at Lord's\n",
            "147 at Melbourne\n",
            "126 at Colombo\n",
            "108* at Jamaica\n",
            "81 at Nottingham\n",
            "112 at Melbourne\n",
            "\n",
            "Captained India in the famous comeback win in BGT,  played an important role for CSK in IPL 2023, stood up in important moments in Tests, Happy birthday… https://t.co/Azj5dyzWmg https://t.co/L5N28JknJV\n",
            "Positive: 0.22\n",
            "Negative: 0.0\n",
            "Neutral: 0.78\n",
            "Compound: 0.91\n",
            "\n",
            "\n",
            "Text: One of India's most valuable overseas Test batters 🫡\n",
            "\n",
            "He not only led India to a famous 2-1 series win down under, but he transformed himself to play a pivotal role in CSK's 2023 IPL triumph\n",
            "\n",
            "Happy birthday, @ajinkyarahane88 🎈 https://t.co/S7kBNrJnBJ\n",
            "Positive: 0.301\n",
            "Negative: 0.0\n",
            "Neutral: 0.699\n",
            "Compound: 0.9382\n",
            "\n",
            "\n",
            "Text: @Railway__Poorna Okay chill. I heard there was a Telugu guy named poorna and he is a CSK fan. So just thought it might be possibility and asked you 😅\n",
            "Positive: 0.188\n",
            "Negative: 0.0\n",
            "Neutral: 0.812\n",
            "Compound: 0.6908\n",
            "\n",
            "\n",
            "Text: @IamSid306 @Mahiyank_78 @mufaddal_vohra Aise fans hr jgh bhare pde h kis kis ko smjhaya jay fir ky csk ky mi ky rcb ....at the end we are indians\n",
            "Positive: 0.0\n",
            "Negative: 0.0\n",
            "Neutral: 1.0\n",
            "Compound: 0.0\n",
            "\n",
            "\n",
            "Text: RT @Bloody_Expiry: Don't worry Pakistan, csk fans will support you in CWC 2023.. https://t.co/uwvSEXrYbG\n",
            "Positive: 0.298\n",
            "Negative: 0.0\n",
            "Neutral: 0.702\n",
            "Compound: 0.6256\n",
            "\n",
            "\n",
            "Text: Any Australian batsman comes to crease \n",
            "Csk fans \n",
            " #INDvsAUS\n",
            "#WTCFinal2023 https://t.co/VcGf7d9NVE\n",
            "Positive: 0.0\n",
            "Negative: 0.0\n",
            "Neutral: 1.0\n",
            "Compound: 0.0\n",
            "\n",
            "\n",
            "Text: RT @iamMiraKPandya: Just beone word 😍💥 @msdhoni \n",
            "\n",
            "#MSDhoni #CSK #WhistlePodu https://t.co/I3wGIsAmzZ\n",
            "Positive: 0.162\n",
            "Negative: 0.135\n",
            "Neutral: 0.703\n",
            "Compound: 0.128\n",
            "\n",
            "\n",
            "Text: @satvik__csk The 60-70% of that fanbase is like that man it's crazy\n",
            "Positive: 0.168\n",
            "Negative: 0.161\n",
            "Neutral: 0.671\n",
            "Compound: 0.0258\n",
            "\n",
            "\n",
            "Text: RT @MotilalOswalAMC: Like Thala’s legacy of staying with #CSK since inception, stay invested for the long term to celebrate your financial…\n",
            "Positive: 0.246\n",
            "Negative: 0.0\n",
            "Neutral: 0.754\n",
            "Compound: 0.7351\n",
            "\n",
            "\n",
            "Text: @_msd_07_csk Cummins also told he would have chosen bowling and its a green pitch... Not a bad decision... Need to see how pitch turns last 2 days...\n",
            "Positive: 0.099\n",
            "Negative: 0.0\n",
            "Neutral: 0.901\n",
            "Compound: 0.431\n",
            "\n",
            "\n",
            "Text: @SergioCSKK Looks like CSK fans are happy. Almost come across 30 CSK fans supporting Australia today. Why so much hate guys? I agree it's your choice whom to support but it's really toxic these days 🥺\n",
            "Positive: 0.224\n",
            "Negative: 0.058\n",
            "Neutral: 0.719\n",
            "Compound: 0.6323\n",
            "\n",
            "\n",
            "Text: The buzz in political circles is that #AmbatiRayudu might join the #Congress and contest the #LoksabhaElection2024 from #Telangana. #Rayudu retired from #T20 cricket last month after winning the #IPL2023 title with #CSK on May 29:\n",
            "https://t.co/5CN6Gd6SqC\n",
            "Positive: 0.141\n",
            "Negative: 0.0\n",
            "Neutral: 0.859\n",
            "Compound: 0.6808\n",
            "\n",
            "\n",
            "Text: Watch here:https://t.co/G2HT7itoan\n",
            "\n",
            "3 Years of Plan to Meet Dhoni: Actress Kushboo About Meeting MSD | CSK, Sundar C\n",
            "\n",
            "#Khushbu #MSDhoni #CSK #ChennaiSuperKings #Dhoni #SundarC #CII #CIIDakshin #Indiaglitz https://t.co/amD6cyBf3Q\n",
            "Positive: 0.0\n",
            "Negative: 0.0\n",
            "Neutral: 1.0\n",
            "Compound: 0.0\n"
          ]
        },
        {
          "output_type": "stream",
          "name": "stderr",
          "text": [
            "/usr/local/lib/python3.10/dist-packages/openpyxl/styles/stylesheet.py:226: UserWarning: Workbook contains no default style, apply openpyxl's default\n",
            "  warn(\"Workbook contains no default style, apply openpyxl's default\")\n"
          ]
        }
      ],
      "source": [
        "import pandas as pd\n",
        "import vaderSentiment as vs\n",
        "\n",
        "# Read the Excel file\n",
        "df = pd.read_excel('input.xlsx')\n",
        "\n",
        "# Create a VADERSentiment object\n",
        "analyzer = vs.vaderSentiment.SentimentIntensityAnalyzer()\n",
        "\n",
        "# Calculate the sentiment scores for each text\n",
        "sentiment_scores = []\n",
        "for text in df['Text']:\n",
        "    sentiment_scores.append(analyzer.polarity_scores(text))\n",
        "\n",
        "# Create a list of the texts\n",
        "texts = list(df['Text'])\n",
        "\n",
        "# Display the sentiment scores for each text\n",
        "for text, sentiment_score in zip(texts, sentiment_scores):\n",
        "    print(\"\\n\\nText:\", text)\n",
        "    print(\"Positive:\", sentiment_score['pos'])\n",
        "    print(\"Negative:\", sentiment_score['neg'])\n",
        "    print(\"Neutral:\", sentiment_score['neu'])\n",
        "    print(\"Compound:\", sentiment_score['compound'])\n"
      ]
    },
    {
      "cell_type": "code",
      "source": [],
      "metadata": {
        "id": "XdaFWV-6Q7Uu"
      },
      "execution_count": null,
      "outputs": []
    }
  ]
}